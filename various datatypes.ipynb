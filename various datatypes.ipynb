{
 "cells": [
  {
   "cell_type": "markdown",
   "id": "53f74815",
   "metadata": {},
   "source": [
    "## Basic Python\n",
    "### Various Datatype in python\n",
    "### variables\n",
    "### variables assignment\n",
    "### print formatting"
   ]
  },
  {
   "cell_type": "markdown",
   "id": "2c6c6227",
   "metadata": {},
   "source": [
    "## Various Datatypes in python"
   ]
  },
  {
   "cell_type": "markdown",
   "id": "12ed81c5",
   "metadata": {},
   "source": [
    "#### Numbers"
   ]
  },
  {
   "cell_type": "code",
   "execution_count": 2,
   "id": "5d4522d9",
   "metadata": {},
   "outputs": [
    {
     "data": {
      "text/plain": [
       "2"
      ]
     },
     "execution_count": 2,
     "metadata": {},
     "output_type": "execute_result"
    }
   ],
   "source": [
    "1+1"
   ]
  },
  {
   "cell_type": "code",
   "execution_count": 3,
   "id": "400643ce",
   "metadata": {},
   "outputs": [
    {
     "data": {
      "text/plain": [
       "20"
      ]
     },
     "execution_count": 3,
     "metadata": {},
     "output_type": "execute_result"
    }
   ],
   "source": [
    "4*5"
   ]
  },
  {
   "cell_type": "code",
   "execution_count": 5,
   "id": "3424242f",
   "metadata": {},
   "outputs": [
    {
     "data": {
      "text/plain": [
       "0.2"
      ]
     },
     "execution_count": 5,
     "metadata": {},
     "output_type": "execute_result"
    }
   ],
   "source": [
    "4/20"
   ]
  },
  {
   "cell_type": "code",
   "execution_count": 7,
   "id": "2eed0be5",
   "metadata": {},
   "outputs": [
    {
     "data": {
      "text/plain": [
       "\"''\\nHello my name is Priti\\n\""
      ]
     },
     "execution_count": 7,
     "metadata": {},
     "output_type": "execute_result"
    }
   ],
   "source": [
    "'''''\n",
    "Hello my name is Priti\n",
    "'''''"
   ]
  },
  {
   "cell_type": "code",
   "execution_count": 9,
   "id": "5f2dc6c6",
   "metadata": {},
   "outputs": [
    {
     "data": {
      "text/plain": [
       "2"
      ]
     },
     "execution_count": 9,
     "metadata": {},
     "output_type": "execute_result"
    }
   ],
   "source": [
    "2%3"
   ]
  },
  {
   "cell_type": "code",
   "execution_count": 10,
   "id": "247cb782",
   "metadata": {},
   "outputs": [
    {
     "data": {
      "text/plain": [
       "'StrStrStrStrStrStrStrStrStrStr'"
      ]
     },
     "execution_count": 10,
     "metadata": {},
     "output_type": "execute_result"
    }
   ],
   "source": [
    "10*\"Str\""
   ]
  },
  {
   "cell_type": "code",
   "execution_count": 11,
   "id": "60b2a332",
   "metadata": {},
   "outputs": [],
   "source": [
    "### Check the data type"
   ]
  },
  {
   "cell_type": "code",
   "execution_count": 12,
   "id": "b9226cfc",
   "metadata": {},
   "outputs": [
    {
     "data": {
      "text/plain": [
       "int"
      ]
     },
     "execution_count": 12,
     "metadata": {},
     "output_type": "execute_result"
    }
   ],
   "source": [
    "type(12)"
   ]
  },
  {
   "cell_type": "code",
   "execution_count": 14,
   "id": "89c71ac7",
   "metadata": {},
   "outputs": [
    {
     "data": {
      "text/plain": [
       "bool"
      ]
     },
     "execution_count": 14,
     "metadata": {},
     "output_type": "execute_result"
    }
   ],
   "source": [
    "type(True)"
   ]
  },
  {
   "cell_type": "code",
   "execution_count": 16,
   "id": "40c5b69b",
   "metadata": {},
   "outputs": [
    {
     "data": {
      "text/plain": [
       "str"
      ]
     },
     "execution_count": 16,
     "metadata": {},
     "output_type": "execute_result"
    }
   ],
   "source": [
    "type(\"str\")"
   ]
  },
  {
   "cell_type": "markdown",
   "id": "2a69efe7",
   "metadata": {},
   "source": [
    "### string"
   ]
  },
  {
   "cell_type": "code",
   "execution_count": 17,
   "id": "caf5050d",
   "metadata": {},
   "outputs": [
    {
     "data": {
      "text/plain": [
       "'Hello'"
      ]
     },
     "execution_count": 17,
     "metadata": {},
     "output_type": "execute_result"
    }
   ],
   "source": [
    "\"Hello\""
   ]
  },
  {
   "cell_type": "code",
   "execution_count": 18,
   "id": "4d1fc67f",
   "metadata": {},
   "outputs": [
    {
     "data": {
      "text/plain": [
       "str"
      ]
     },
     "execution_count": 18,
     "metadata": {},
     "output_type": "execute_result"
    }
   ],
   "source": [
    "type(\"Hello\")"
   ]
  },
  {
   "cell_type": "markdown",
   "id": "687717d1",
   "metadata": {},
   "source": [
    "### Variable assignment"
   ]
  },
  {
   "cell_type": "code",
   "execution_count": 19,
   "id": "a169f090",
   "metadata": {},
   "outputs": [],
   "source": [
    "## syntax\n",
    "## var_name=values\n",
    "\n",
    "a=10"
   ]
  },
  {
   "cell_type": "code",
   "execution_count": 20,
   "id": "e55a2dc1",
   "metadata": {},
   "outputs": [
    {
     "data": {
      "text/plain": [
       "int"
      ]
     },
     "execution_count": 20,
     "metadata": {},
     "output_type": "execute_result"
    }
   ],
   "source": [
    "type(a)"
   ]
  },
  {
   "cell_type": "code",
   "execution_count": 21,
   "id": "5fc8c055",
   "metadata": {},
   "outputs": [],
   "source": [
    "a=\"Priti\""
   ]
  },
  {
   "cell_type": "code",
   "execution_count": 22,
   "id": "969ce520",
   "metadata": {},
   "outputs": [
    {
     "data": {
      "text/plain": [
       "str"
      ]
     },
     "execution_count": 22,
     "metadata": {},
     "output_type": "execute_result"
    }
   ],
   "source": [
    "type(a)"
   ]
  },
  {
   "cell_type": "code",
   "execution_count": 23,
   "id": "ee282e8e",
   "metadata": {},
   "outputs": [],
   "source": [
    "### mathematical operation with variable assignment"
   ]
  },
  {
   "cell_type": "code",
   "execution_count": 24,
   "id": "ce1bdf40",
   "metadata": {},
   "outputs": [],
   "source": [
    "a=10\n",
    "b=20"
   ]
  },
  {
   "cell_type": "code",
   "execution_count": 25,
   "id": "30de483c",
   "metadata": {},
   "outputs": [
    {
     "name": "stdout",
     "output_type": "stream",
     "text": [
      "30\n",
      "0.5\n",
      "200\n",
      "-10\n",
      "200.5\n"
     ]
    }
   ],
   "source": [
    "print(a+b)\n",
    "print(a/b)\n",
    "print(a*b)\n",
    "print(a-b)\n",
    "print((a*b)+(a/b))  #BODMAS"
   ]
  },
  {
   "cell_type": "code",
   "execution_count": 26,
   "id": "107564a9",
   "metadata": {},
   "outputs": [
    {
     "name": "stdout",
     "output_type": "stream",
     "text": [
      "Hello\n"
     ]
    }
   ],
   "source": [
    "# varioys ways of printing\n",
    "\n",
    "print(\"Hello\")"
   ]
  },
  {
   "cell_type": "code",
   "execution_count": 27,
   "id": "999a6ab2",
   "metadata": {},
   "outputs": [],
   "source": [
    "first_name=\"priti\"\n",
    "last_name=\"Kore\""
   ]
  },
  {
   "cell_type": "code",
   "execution_count": 33,
   "id": "13e9d863",
   "metadata": {},
   "outputs": [
    {
     "name": "stdout",
     "output_type": "stream",
     "text": [
      "My first name is priti and last name is Kore\n"
     ]
    }
   ],
   "source": [
    "print(\"My first name is {} and last name is {}\".format(first_name,last_name))"
   ]
  },
  {
   "cell_type": "code",
   "execution_count": 34,
   "id": "ef0f56b5",
   "metadata": {},
   "outputs": [
    {
     "name": "stdout",
     "output_type": "stream",
     "text": [
      "my first name is priti and last name is Kore\n"
     ]
    }
   ],
   "source": [
    "print(\"my first name is {first} and last name is {last}\".format(first=first_name,last=last_name))"
   ]
  },
  {
   "cell_type": "code",
   "execution_count": 35,
   "id": "2211e8f7",
   "metadata": {},
   "outputs": [
    {
     "data": {
      "text/plain": [
       "5"
      ]
     },
     "execution_count": 35,
     "metadata": {},
     "output_type": "execute_result"
    }
   ],
   "source": [
    "len(\"priti\")"
   ]
  },
  {
   "cell_type": "code",
   "execution_count": 36,
   "id": "1f0bb405",
   "metadata": {},
   "outputs": [
    {
     "data": {
      "text/plain": [
       "float"
      ]
     },
     "execution_count": 36,
     "metadata": {},
     "output_type": "execute_result"
    }
   ],
   "source": [
    "type(1.02)"
   ]
  },
  {
   "cell_type": "code",
   "execution_count": 37,
   "id": "022140e7",
   "metadata": {},
   "outputs": [
    {
     "data": {
      "text/plain": [
       "str"
      ]
     },
     "execution_count": 37,
     "metadata": {},
     "output_type": "execute_result"
    }
   ],
   "source": [
    "type(\"priti\")"
   ]
  },
  {
   "cell_type": "code",
   "execution_count": 39,
   "id": "b174ca85",
   "metadata": {},
   "outputs": [
    {
     "data": {
      "text/plain": [
       "list"
      ]
     },
     "execution_count": 39,
     "metadata": {},
     "output_type": "execute_result"
    }
   ],
   "source": [
    "type([\"gs\",5,6,7])"
   ]
  },
  {
   "cell_type": "code",
   "execution_count": null,
   "id": "3acb4088",
   "metadata": {},
   "outputs": [],
   "source": []
  }
 ],
 "metadata": {
  "kernelspec": {
   "display_name": "Python 3 (ipykernel)",
   "language": "python",
   "name": "python3"
  },
  "language_info": {
   "codemirror_mode": {
    "name": "ipython",
    "version": 3
   },
   "file_extension": ".py",
   "mimetype": "text/x-python",
   "name": "python",
   "nbconvert_exporter": "python",
   "pygments_lexer": "ipython3",
   "version": "3.9.12"
  }
 },
 "nbformat": 4,
 "nbformat_minor": 5
}
